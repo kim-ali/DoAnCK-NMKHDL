{
 "cells": [
  {
   "cell_type": "markdown",
   "metadata": {},
   "source": [
    "### ĐỒ ÁN CUỐI KỲ\n"
   ]
  },
  {
   "cell_type": "code",
   "execution_count": 1,
   "metadata": {},
   "outputs": [
    {
     "data": {
      "text/plain": [
       "'0.23.1'"
      ]
     },
     "execution_count": 1,
     "metadata": {},
     "output_type": "execute_result"
    }
   ],
   "source": [
    "import numpy as np \n",
    "import pandas as pd \n",
    "import seaborn as sns\n",
    "import sklearn \n",
    "import matplotlib.pyplot as plt\n",
    "%matplotlib inline\n",
    "\n",
    "from sklearn.pipeline import Pipeline\n",
    "from sklearn.pipeline import make_pipeline\n",
    "from sklearn.impute import SimpleImputer\n",
    "from sklearn.preprocessing import OneHotEncoder\n",
    "from sklearn.compose import ColumnTransformer\n",
    "from sklearn.preprocessing import StandardScaler\n",
    "from sklearn.preprocessing import PowerTransformer\n",
    "from sklearn.model_selection import train_test_split\n",
    "from sklearn import preprocessing\n",
    "from sklearn.metrics import mean_absolute_error\n",
    "from sklearn.neural_network import MLPClassifier, MLPRegressor\n",
    "from sklearn.base import BaseEstimator, TransformerMixin\n",
    "from sklearn.pipeline import Pipeline, make_pipeline\n",
    "from sklearn.linear_model import LogisticRegression\n",
    "from sklearn import set_config\n",
    "set_config(display='diagram')\n",
    "import sklearn\n",
    "sklearn.__version__"
   ]
  },
  {
   "cell_type": "markdown",
   "metadata": {},
   "source": [
    "## Khám phá dữ liệu (đủ để có thể xác định câu hỏi)"
   ]
  },
  {
   "cell_type": "code",
   "execution_count": 2,
   "metadata": {},
   "outputs": [
    {
     "data": {
      "text/html": [
       "<div>\n",
       "<style scoped>\n",
       "    .dataframe tbody tr th:only-of-type {\n",
       "        vertical-align: middle;\n",
       "    }\n",
       "\n",
       "    .dataframe tbody tr th {\n",
       "        vertical-align: top;\n",
       "    }\n",
       "\n",
       "    .dataframe thead th {\n",
       "        text-align: right;\n",
       "    }\n",
       "</style>\n",
       "<table border=\"1\" class=\"dataframe\">\n",
       "  <thead>\n",
       "    <tr style=\"text-align: right;\">\n",
       "      <th></th>\n",
       "      <th>Name</th>\n",
       "      <th>District</th>\n",
       "      <th>Star</th>\n",
       "      <th>RatingScore</th>\n",
       "      <th>Num_ratings</th>\n",
       "      <th>Price(VND)</th>\n",
       "      <th>Pool</th>\n",
       "      <th>Parking</th>\n",
       "      <th>Restaurant</th>\n",
       "    </tr>\n",
       "  </thead>\n",
       "  <tbody>\n",
       "    <tr>\n",
       "      <th>0</th>\n",
       "      <td>Angel Hotel Danang</td>\n",
       "      <td>Sơn Trà</td>\n",
       "      <td>3.0</td>\n",
       "      <td>8.6</td>\n",
       "      <td>287</td>\n",
       "      <td>162790</td>\n",
       "      <td>No</td>\n",
       "      <td>Yes</td>\n",
       "      <td>Yes</td>\n",
       "    </tr>\n",
       "    <tr>\n",
       "      <th>1</th>\n",
       "      <td>Stella Maris Beach Danang</td>\n",
       "      <td>Sơn Trà</td>\n",
       "      <td>4.0</td>\n",
       "      <td>8.9</td>\n",
       "      <td>63</td>\n",
       "      <td>832500</td>\n",
       "      <td>No</td>\n",
       "      <td>Yes</td>\n",
       "      <td>Yes</td>\n",
       "    </tr>\n",
       "    <tr>\n",
       "      <th>2</th>\n",
       "      <td>Khách sạn DLG Đà Nẵng</td>\n",
       "      <td>Sơn Trà</td>\n",
       "      <td>4.5</td>\n",
       "      <td>9.3</td>\n",
       "      <td>62</td>\n",
       "      <td>1026908</td>\n",
       "      <td>No</td>\n",
       "      <td>Yes</td>\n",
       "      <td>Yes</td>\n",
       "    </tr>\n",
       "    <tr>\n",
       "      <th>3</th>\n",
       "      <td>San Marino Boutique Danang</td>\n",
       "      <td>Sơn Trà</td>\n",
       "      <td>4.0</td>\n",
       "      <td>9.0</td>\n",
       "      <td>212</td>\n",
       "      <td>600000</td>\n",
       "      <td>No</td>\n",
       "      <td>Yes</td>\n",
       "      <td>Yes</td>\n",
       "    </tr>\n",
       "    <tr>\n",
       "      <th>4</th>\n",
       "      <td>Khách sạn Raon Danang Beach</td>\n",
       "      <td>Ngũ Hành Sơn</td>\n",
       "      <td>3.0</td>\n",
       "      <td>8.8</td>\n",
       "      <td>613</td>\n",
       "      <td>337920</td>\n",
       "      <td>No</td>\n",
       "      <td>No</td>\n",
       "      <td>Yes</td>\n",
       "    </tr>\n",
       "  </tbody>\n",
       "</table>\n",
       "</div>"
      ],
      "text/plain": [
       "                          Name      District  Star  RatingScore  Num_ratings  \\\n",
       "0           Angel Hotel Danang       Sơn Trà   3.0          8.6          287   \n",
       "1    Stella Maris Beach Danang       Sơn Trà   4.0          8.9           63   \n",
       "2        Khách sạn DLG Đà Nẵng       Sơn Trà   4.5          9.3           62   \n",
       "3   San Marino Boutique Danang       Sơn Trà   4.0          9.0          212   \n",
       "4  Khách sạn Raon Danang Beach  Ngũ Hành Sơn   3.0          8.8          613   \n",
       "\n",
       "   Price(VND) Pool Parking Restaurant  \n",
       "0      162790   No     Yes        Yes  \n",
       "1      832500   No     Yes        Yes  \n",
       "2     1026908   No     Yes        Yes  \n",
       "3      600000   No     Yes        Yes  \n",
       "4      337920   No      No        Yes  "
      ]
     },
     "execution_count": 2,
     "metadata": {},
     "output_type": "execute_result"
    }
   ],
   "source": [
    "hotels_df = pd.read_csv('data_hotels.csv')\n",
    "hotels_df.head()"
   ]
  },
  {
   "cell_type": "markdown",
   "metadata": {},
   "source": [
    "### Dữ liệu có bao nhiêu dòng và bao nhiêu cột?"
   ]
  },
  {
   "cell_type": "code",
   "execution_count": 3,
   "metadata": {},
   "outputs": [
    {
     "data": {
      "text/plain": [
       "(489, 9)"
      ]
     },
     "execution_count": 3,
     "metadata": {},
     "output_type": "execute_result"
    }
   ],
   "source": [
    "hotels_df.shape"
   ]
  },
  {
   "cell_type": "markdown",
   "metadata": {},
   "source": [
    "### Mỗi dòng có ý nghĩa gì? Có vấn đề các dòng có ý nghĩa khác nhau không?"
   ]
  },
  {
   "cell_type": "markdown",
   "metadata": {},
   "source": [
    "### Dữ liệu có các dòng bị lặp không?"
   ]
  },
  {
   "cell_type": "code",
   "execution_count": 4,
   "metadata": {},
   "outputs": [
    {
     "data": {
      "text/plain": [
       "0"
      ]
     },
     "execution_count": 4,
     "metadata": {},
     "output_type": "execute_result"
    }
   ],
   "source": [
    "hotels_df.index.duplicated().sum()"
   ]
  },
  {
   "cell_type": "markdown",
   "metadata": {},
   "source": [
    "### Mỗi cột có ý nghĩa gì?\n",
    "Mô tả trong file \"description.txt\"."
   ]
  },
  {
   "cell_type": "code",
   "execution_count": 5,
   "metadata": {},
   "outputs": [
    {
     "name": "stdout",
     "output_type": "stream",
     "text": [
      "DỮ LIỆU THÔNG TIN CƠ BẢN CỦA KHÁCH SẢN \n",
      "\n",
      "VARIABLE DESCRIPTIONS:\n",
      "\n",
      "Name\t\t\tTên khách sạn\n",
      "\n",
      "District\t\tQuận; huyện của khách sạn\n",
      "\t\n",
      "Star\t\t\tSố sao của khách sạn\n",
      "\n",
      "RatingScore\t\tĐiểm đánh giá khách sạn\n",
      "\t\n",
      "Num_ratings\t\tSố người đánh giá khách sạn\n",
      "\n",
      "Price(VND)\t\tGiá thuê phòng (1 đêm/2 người) của khách sạn\n",
      "\t\n",
      "Pool\t\t\tHồ bơi \n",
      "\t\t\t(Yes; No)\n",
      "Parking\t\t\tChỗ đậu xe\n",
      "\t\t\t(Yes; No)\n",
      "Restaurant\t\tNhà hàng\n",
      "\t\t\t(Yes; No)\n",
      "\n",
      "\n",
      "\n"
     ]
    }
   ],
   "source": [
    "with open('description.txt', 'r',encoding='utf-8') as f:\n",
    "    print(f.read())"
   ]
  },
  {
   "cell_type": "markdown",
   "metadata": {},
   "source": [
    "## Đưa ra câu hỏi cần trả lời\n",
    "\n",
    "*Output - giá phòng khách sạn -* được tính từ *input - các thông tin của khách sạn-* theo công thức nào?\n",
    "\n",
    "# Ý nghĩa:\n",
    "* Khi khách hàng muốn tìm khách sạn với mức giá hợp lý và chất lượng đảm bảo.\n",
    "* Khi muốn kinh doanh hoặc đầu tư vào một khách sạn."
   ]
  },
  {
   "cell_type": "markdown",
   "metadata": {},
   "source": [
    "## Khám phá dữ liệu (để biết cách tách các tập)"
   ]
  },
  {
   "cell_type": "code",
   "execution_count": 6,
   "metadata": {},
   "outputs": [
    {
     "data": {
      "text/plain": [
       "dtype('int64')"
      ]
     },
     "execution_count": 6,
     "metadata": {},
     "output_type": "execute_result"
    }
   ],
   "source": [
    "# Cột output hiện có kiểu dữ liệu gì?\n",
    "hotels_df['Price(VND)'].dtype"
   ]
  },
  {
   "cell_type": "code",
   "execution_count": 7,
   "metadata": {},
   "outputs": [
    {
     "data": {
      "text/plain": [
       "0"
      ]
     },
     "execution_count": 7,
     "metadata": {},
     "output_type": "execute_result"
    }
   ],
   "source": [
    "# Cột output có giá trị thiếu không?\n",
    "hotels_df['Price(VND)'].isna().sum()"
   ]
  },
  {
   "cell_type": "markdown",
   "metadata": {},
   "source": [
    "Do cột output có dữ liệu \"liên tục\":\n",
    "* Rời rạc hóa thủ công\n",
    "* Ép kiểu string"
   ]
  },
  {
   "cell_type": "code",
   "execution_count": 8,
   "metadata": {},
   "outputs": [
    {
     "data": {
      "text/plain": [
       "Name            object\n",
       "District        object\n",
       "Star           float64\n",
       "RatingScore    float64\n",
       "Num_ratings      int64\n",
       "Price(VND)      object\n",
       "Pool            object\n",
       "Parking         object\n",
       "Restaurant      object\n",
       "dtype: object"
      ]
     },
     "execution_count": 8,
     "metadata": {},
     "output_type": "execute_result"
    }
   ],
   "source": [
    "hotels_df['Price(VND)']=pd.cut(hotels_df['Price(VND)'], 10)\n",
    "hotels_df['Price(VND)']=hotels_df['Price(VND)'].astype(str)\n",
    "hotels_df.dtypes"
   ]
  },
  {
   "cell_type": "markdown",
   "metadata": {},
   "source": [
    "Lấy \"trần\" cột RatingScore\n",
    "Đổi kiểu dữ liệu int --> float"
   ]
  },
  {
   "cell_type": "code",
   "execution_count": 9,
   "metadata": {
    "scrolled": true
   },
   "outputs": [
    {
     "data": {
      "text/html": [
       "<div>\n",
       "<style scoped>\n",
       "    .dataframe tbody tr th:only-of-type {\n",
       "        vertical-align: middle;\n",
       "    }\n",
       "\n",
       "    .dataframe tbody tr th {\n",
       "        vertical-align: top;\n",
       "    }\n",
       "\n",
       "    .dataframe thead th {\n",
       "        text-align: right;\n",
       "    }\n",
       "</style>\n",
       "<table border=\"1\" class=\"dataframe\">\n",
       "  <thead>\n",
       "    <tr style=\"text-align: right;\">\n",
       "      <th></th>\n",
       "      <th>Name</th>\n",
       "      <th>District</th>\n",
       "      <th>Star</th>\n",
       "      <th>RatingScore</th>\n",
       "      <th>Num_ratings</th>\n",
       "      <th>Price(VND)</th>\n",
       "      <th>Pool</th>\n",
       "      <th>Parking</th>\n",
       "      <th>Restaurant</th>\n",
       "    </tr>\n",
       "  </thead>\n",
       "  <tbody>\n",
       "    <tr>\n",
       "      <th>0</th>\n",
       "      <td>Angel Hotel Danang</td>\n",
       "      <td>Sơn Trà</td>\n",
       "      <td>3.0</td>\n",
       "      <td>9.0</td>\n",
       "      <td>287.0</td>\n",
       "      <td>(127339.018, 1158850.2]</td>\n",
       "      <td>No</td>\n",
       "      <td>Yes</td>\n",
       "      <td>Yes</td>\n",
       "    </tr>\n",
       "    <tr>\n",
       "      <th>1</th>\n",
       "      <td>Stella Maris Beach Danang</td>\n",
       "      <td>Sơn Trà</td>\n",
       "      <td>4.0</td>\n",
       "      <td>9.0</td>\n",
       "      <td>63.0</td>\n",
       "      <td>(127339.018, 1158850.2]</td>\n",
       "      <td>No</td>\n",
       "      <td>Yes</td>\n",
       "      <td>Yes</td>\n",
       "    </tr>\n",
       "    <tr>\n",
       "      <th>2</th>\n",
       "      <td>Khách sạn DLG Đà Nẵng</td>\n",
       "      <td>Sơn Trà</td>\n",
       "      <td>4.5</td>\n",
       "      <td>10.0</td>\n",
       "      <td>62.0</td>\n",
       "      <td>(127339.018, 1158850.2]</td>\n",
       "      <td>No</td>\n",
       "      <td>Yes</td>\n",
       "      <td>Yes</td>\n",
       "    </tr>\n",
       "    <tr>\n",
       "      <th>3</th>\n",
       "      <td>San Marino Boutique Danang</td>\n",
       "      <td>Sơn Trà</td>\n",
       "      <td>4.0</td>\n",
       "      <td>9.0</td>\n",
       "      <td>212.0</td>\n",
       "      <td>(127339.018, 1158850.2]</td>\n",
       "      <td>No</td>\n",
       "      <td>Yes</td>\n",
       "      <td>Yes</td>\n",
       "    </tr>\n",
       "    <tr>\n",
       "      <th>4</th>\n",
       "      <td>Khách sạn Raon Danang Beach</td>\n",
       "      <td>Ngũ Hành Sơn</td>\n",
       "      <td>3.0</td>\n",
       "      <td>9.0</td>\n",
       "      <td>613.0</td>\n",
       "      <td>(127339.018, 1158850.2]</td>\n",
       "      <td>No</td>\n",
       "      <td>No</td>\n",
       "      <td>Yes</td>\n",
       "    </tr>\n",
       "  </tbody>\n",
       "</table>\n",
       "</div>"
      ],
      "text/plain": [
       "                          Name      District  Star  RatingScore  Num_ratings  \\\n",
       "0           Angel Hotel Danang       Sơn Trà   3.0          9.0        287.0   \n",
       "1    Stella Maris Beach Danang       Sơn Trà   4.0          9.0         63.0   \n",
       "2        Khách sạn DLG Đà Nẵng       Sơn Trà   4.5         10.0         62.0   \n",
       "3   San Marino Boutique Danang       Sơn Trà   4.0          9.0        212.0   \n",
       "4  Khách sạn Raon Danang Beach  Ngũ Hành Sơn   3.0          9.0        613.0   \n",
       "\n",
       "                Price(VND) Pool Parking Restaurant  \n",
       "0  (127339.018, 1158850.2]   No     Yes        Yes  \n",
       "1  (127339.018, 1158850.2]   No     Yes        Yes  \n",
       "2  (127339.018, 1158850.2]   No     Yes        Yes  \n",
       "3  (127339.018, 1158850.2]   No     Yes        Yes  \n",
       "4  (127339.018, 1158850.2]   No      No        Yes  "
      ]
     },
     "execution_count": 9,
     "metadata": {},
     "output_type": "execute_result"
    }
   ],
   "source": [
    "def ceil_(s):\n",
    "    return np.ceil(s)\n",
    "hotels_df['RatingScore']=hotels_df['RatingScore'].apply(ceil_)\n",
    "hotels_df['Num_ratings'] = hotels_df['Num_ratings'].astype(float)\n",
    "hotels_df.head()"
   ]
  },
  {
   "cell_type": "markdown",
   "metadata": {},
   "source": [
    "## Tiền xử lý (tách các tập)"
   ]
  },
  {
   "cell_type": "code",
   "execution_count": 10,
   "metadata": {},
   "outputs": [],
   "source": [
    "# Tách X và y\n",
    "y = hotels_df[\"Price(VND)\"] \n",
    "X = hotels_df.drop(\"Price(VND)\", axis=1)\n",
    "\n",
    "# Tách tập huấn luyện và tập train theo tỉ lệ 80%:20%\n",
    "X_train1, X_test, y_train1, y_test = train_test_split(X, y, test_size=0.2, random_state=1)\n",
    "    \n",
    "# Tách tập huấn luyện và tập validation theo tỉ lệ 80%:20%\n",
    "X_train, X_val, y_train, y_val = train_test_split(X_train1, y_train1, test_size=0.2, random_state=1)\n"
   ]
  },
  {
   "cell_type": "code",
   "execution_count": 11,
   "metadata": {},
   "outputs": [
    {
     "data": {
      "text/plain": [
       "(312, 8)"
      ]
     },
     "execution_count": 11,
     "metadata": {},
     "output_type": "execute_result"
    }
   ],
   "source": [
    "X_train.shape"
   ]
  },
  {
   "cell_type": "code",
   "execution_count": 12,
   "metadata": {},
   "outputs": [
    {
     "data": {
      "text/plain": [
       "(312,)"
      ]
     },
     "execution_count": 12,
     "metadata": {},
     "output_type": "execute_result"
    }
   ],
   "source": [
    "y_train.shape"
   ]
  },
  {
   "cell_type": "code",
   "execution_count": 13,
   "metadata": {},
   "outputs": [
    {
     "data": {
      "text/plain": [
       "(79, 8)"
      ]
     },
     "execution_count": 13,
     "metadata": {},
     "output_type": "execute_result"
    }
   ],
   "source": [
    "X_val.shape"
   ]
  },
  {
   "cell_type": "code",
   "execution_count": 14,
   "metadata": {},
   "outputs": [
    {
     "data": {
      "text/plain": [
       "(79,)"
      ]
     },
     "execution_count": 14,
     "metadata": {},
     "output_type": "execute_result"
    }
   ],
   "source": [
    "y_val.shape"
   ]
  },
  {
   "cell_type": "code",
   "execution_count": 15,
   "metadata": {},
   "outputs": [
    {
     "data": {
      "text/plain": [
       "(98, 8)"
      ]
     },
     "execution_count": 15,
     "metadata": {},
     "output_type": "execute_result"
    }
   ],
   "source": [
    "X_test.shape"
   ]
  },
  {
   "cell_type": "code",
   "execution_count": 16,
   "metadata": {},
   "outputs": [
    {
     "data": {
      "text/plain": [
       "(98,)"
      ]
     },
     "execution_count": 16,
     "metadata": {},
     "output_type": "execute_result"
    }
   ],
   "source": [
    "y_test.shape"
   ]
  },
  {
   "cell_type": "markdown",
   "metadata": {},
   "source": [
    "## Khám phá dữ liệu (tập huấn luyện)"
   ]
  },
  {
   "cell_type": "markdown",
   "metadata": {},
   "source": [
    "### Mỗi cột input hiện đang có kiểu dữ liệu gì?"
   ]
  },
  {
   "cell_type": "code",
   "execution_count": 17,
   "metadata": {},
   "outputs": [
    {
     "data": {
      "text/plain": [
       "Name            object\n",
       "District        object\n",
       "Star           float64\n",
       "RatingScore    float64\n",
       "Num_ratings    float64\n",
       "Pool            object\n",
       "Parking         object\n",
       "Restaurant      object\n",
       "dtype: object"
      ]
     },
     "execution_count": 17,
     "metadata": {},
     "output_type": "execute_result"
    }
   ],
   "source": [
    "X_train.dtypes"
   ]
  },
  {
   "cell_type": "markdown",
   "metadata": {},
   "source": [
    "### Với mỗi cột input có kiểu dữ liệu dạng số, các giá trị được phân bố như thế nào?"
   ]
  },
  {
   "cell_type": "markdown",
   "metadata": {},
   "source": [
    "Chỉ có cột \"Num_ratings\" là dạng số thật sự.\n",
    "Còn Star và RatingScore là dạn cate"
   ]
  },
  {
   "cell_type": "code",
   "execution_count": 18,
   "metadata": {},
   "outputs": [
    {
     "data": {
      "text/html": [
       "<div>\n",
       "<style scoped>\n",
       "    .dataframe tbody tr th:only-of-type {\n",
       "        vertical-align: middle;\n",
       "    }\n",
       "\n",
       "    .dataframe tbody tr th {\n",
       "        vertical-align: top;\n",
       "    }\n",
       "\n",
       "    .dataframe thead th {\n",
       "        text-align: right;\n",
       "    }\n",
       "</style>\n",
       "<table border=\"1\" class=\"dataframe\">\n",
       "  <thead>\n",
       "    <tr style=\"text-align: right;\">\n",
       "      <th></th>\n",
       "      <th>Star</th>\n",
       "      <th>RatingScore</th>\n",
       "      <th>Num_ratings</th>\n",
       "    </tr>\n",
       "  </thead>\n",
       "  <tbody>\n",
       "    <tr>\n",
       "      <th>missing_ratio</th>\n",
       "      <td>0.0</td>\n",
       "      <td>0.0</td>\n",
       "      <td>0.0</td>\n",
       "    </tr>\n",
       "    <tr>\n",
       "      <th>min</th>\n",
       "      <td>0.0</td>\n",
       "      <td>0.0</td>\n",
       "      <td>0.0</td>\n",
       "    </tr>\n",
       "    <tr>\n",
       "      <th>lower_quartile</th>\n",
       "      <td>2.0</td>\n",
       "      <td>0.0</td>\n",
       "      <td>0.0</td>\n",
       "    </tr>\n",
       "    <tr>\n",
       "      <th>median</th>\n",
       "      <td>2.5</td>\n",
       "      <td>9.0</td>\n",
       "      <td>19.0</td>\n",
       "    </tr>\n",
       "    <tr>\n",
       "      <th>upper_quartile</th>\n",
       "      <td>3.0</td>\n",
       "      <td>9.0</td>\n",
       "      <td>68.0</td>\n",
       "    </tr>\n",
       "    <tr>\n",
       "      <th>max</th>\n",
       "      <td>5.0</td>\n",
       "      <td>10.0</td>\n",
       "      <td>1032.0</td>\n",
       "    </tr>\n",
       "  </tbody>\n",
       "</table>\n",
       "</div>"
      ],
      "text/plain": [
       "                Star  RatingScore  Num_ratings\n",
       "missing_ratio    0.0          0.0          0.0\n",
       "min              0.0          0.0          0.0\n",
       "lower_quartile   2.0          0.0          0.0\n",
       "median           2.5          9.0         19.0\n",
       "upper_quartile   3.0          9.0         68.0\n",
       "max              5.0         10.0       1032.0"
      ]
     },
     "execution_count": 18,
     "metadata": {},
     "output_type": "execute_result"
    }
   ],
   "source": [
    "def missing_ratio(df):\n",
    "    return (df.isna().mean() * 100).round(1)\n",
    "def lower_quartile(df):\n",
    "    return df.quantile(0.25).round(1)\n",
    "def median(df):\n",
    "    return df.quantile(0.5).round(1)\n",
    "def upper_quartile(df):\n",
    "    return df.quantile(0.75).round(1)\n",
    "nume_cols = ['Star', 'RatingScore', 'Num_ratings']\n",
    "df = X_train[nume_cols]\n",
    "df.agg([missing_ratio, 'min', lower_quartile, median, upper_quartile, 'max'])"
   ]
  },
  {
   "cell_type": "markdown",
   "metadata": {},
   "source": [
    "### Với mỗi cột input có kiểu dữ liệu không phải dạng số, các giá trị được phân bố như thế nào?"
   ]
  },
  {
   "cell_type": "code",
   "execution_count": 19,
   "metadata": {},
   "outputs": [
    {
     "data": {
      "text/html": [
       "<div>\n",
       "<style scoped>\n",
       "    .dataframe tbody tr th:only-of-type {\n",
       "        vertical-align: middle;\n",
       "    }\n",
       "\n",
       "    .dataframe tbody tr th {\n",
       "        vertical-align: top;\n",
       "    }\n",
       "\n",
       "    .dataframe thead th {\n",
       "        text-align: right;\n",
       "    }\n",
       "</style>\n",
       "<table border=\"1\" class=\"dataframe\">\n",
       "  <thead>\n",
       "    <tr style=\"text-align: right;\">\n",
       "      <th></th>\n",
       "      <th>District</th>\n",
       "      <th>Restaurant</th>\n",
       "      <th>Name</th>\n",
       "      <th>Pool</th>\n",
       "      <th>Parking</th>\n",
       "    </tr>\n",
       "  </thead>\n",
       "  <tbody>\n",
       "    <tr>\n",
       "      <th>missing_ratio</th>\n",
       "      <td>0</td>\n",
       "      <td>0</td>\n",
       "      <td>0</td>\n",
       "      <td>0</td>\n",
       "      <td>0</td>\n",
       "    </tr>\n",
       "    <tr>\n",
       "      <th>num_values</th>\n",
       "      <td>7</td>\n",
       "      <td>2</td>\n",
       "      <td>312</td>\n",
       "      <td>2</td>\n",
       "      <td>2</td>\n",
       "    </tr>\n",
       "    <tr>\n",
       "      <th>value_ratios</th>\n",
       "      <td>{'Sơn Trà': 42.3, 'Ngũ Hành Sơn': 28.5, 'Quận Hải Châu': 21.5, 'Thanh Khê': 4.2, 'Đà Nẵng': 1.9, 'Quận Cẩm Lệ': 1.0, 'Liên Chiểu': 0.6}</td>\n",
       "      <td>{'Yes': 65.1, 'No': 34.9}</td>\n",
       "      <td>{'Sơn Trà Green': 0.3, 'Khách sạn Bé Anh': 0.3, 'Hadiva Boutique Hotel': 0.3, 'Hung Anh Hotel': 0.3, 'Khách sạn Legacy Đà Nẵng': 0.3, 'Kangaroo Holiday Lodge 1': 0.3, 'Khách sạn Ngọc Lan': 0.3, 'T...</td>\n",
       "      <td>{'No': 84.3, 'Yes': 15.7}</td>\n",
       "      <td>{'Yes': 53.2, 'No': 46.8}</td>\n",
       "    </tr>\n",
       "  </tbody>\n",
       "</table>\n",
       "</div>"
      ],
      "text/plain": [
       "                                                                                                                                              District  \\\n",
       "missing_ratio                                                                                                                                        0   \n",
       "num_values                                                                                                                                           7   \n",
       "value_ratios   {'Sơn Trà': 42.3, 'Ngũ Hành Sơn': 28.5, 'Quận Hải Châu': 21.5, 'Thanh Khê': 4.2, 'Đà Nẵng': 1.9, 'Quận Cẩm Lệ': 1.0, 'Liên Chiểu': 0.6}   \n",
       "\n",
       "                              Restaurant  \\\n",
       "missing_ratio                          0   \n",
       "num_values                             2   \n",
       "value_ratios   {'Yes': 65.1, 'No': 34.9}   \n",
       "\n",
       "                                                                                                                                                                                                                  Name  \\\n",
       "missing_ratio                                                                                                                                                                                                        0   \n",
       "num_values                                                                                                                                                                                                         312   \n",
       "value_ratios   {'Sơn Trà Green': 0.3, 'Khách sạn Bé Anh': 0.3, 'Hadiva Boutique Hotel': 0.3, 'Hung Anh Hotel': 0.3, 'Khách sạn Legacy Đà Nẵng': 0.3, 'Kangaroo Holiday Lodge 1': 0.3, 'Khách sạn Ngọc Lan': 0.3, 'T...   \n",
       "\n",
       "                                    Pool                    Parking  \n",
       "missing_ratio                          0                          0  \n",
       "num_values                             2                          2  \n",
       "value_ratios   {'No': 84.3, 'Yes': 15.7}  {'Yes': 53.2, 'No': 46.8}  "
      ]
     },
     "execution_count": 19,
     "metadata": {},
     "output_type": "execute_result"
    }
   ],
   "source": [
    "pd.set_option('display.max_colwidth', 200)\n",
    "cate_cols = list(set(X_train.columns) - set(nume_cols))\n",
    "df = X_train[cate_cols]\n",
    "def missing_ratio(df):\n",
    "    return (df.isna().mean() * 100).round(1)\n",
    "def num_values(df):\n",
    "    return df.nunique()\n",
    "def value_ratios(c):\n",
    "    return dict((c.value_counts(normalize=True) * 100).round(1))\n",
    "df.agg([missing_ratio, num_values, value_ratios])"
   ]
  },
  {
   "cell_type": "markdown",
   "metadata": {},
   "source": [
    "## Tiền xử lý (tập huấn luyện) "
   ]
  },
  {
   "cell_type": "markdown",
   "metadata": {},
   "source": [
    "* Bỏ cột \"Name\"\n",
    "* Chuyển Yes/No --> 1/0"
   ]
  },
  {
   "cell_type": "code",
   "execution_count": 20,
   "metadata": {},
   "outputs": [],
   "source": [
    "class ColAdderDropper(BaseEstimator, TransformerMixin):\n",
    "    def __init__(self):\n",
    "        pass\n",
    "    def fit(self,X_df, y=None):\n",
    "        return self\n",
    "    def transform(self, X_df, y=None):\n",
    "        dropped_cols=[\"Name\"]\n",
    "        df = X_df.copy()\n",
    "        df.drop(dropped_cols, axis=1, inplace=True)\n",
    "        df= df.replace('Yes', 1)\n",
    "        df= df.replace('No', 0)\n",
    "        return df"
   ]
  },
  {
   "cell_type": "markdown",
   "metadata": {},
   "source": [
    "## Tiền xử lý"
   ]
  },
  {
   "cell_type": "markdown",
   "metadata": {},
   "source": [
    "* Với cột dạng số \"Num_rating\": điền giá trị thiếu với median\n",
    "* Với cột dạng số 'Star','RatingScore','Pool','Parking','Restaurant': điền giá trị thiếu với most_frequent\n",
    "* Với cột 'District': điền giá trị thiếu với most_frequent, sau đó chuyển sang dạng số bằng OneHotEncoder"
   ]
  },
  {
   "cell_type": "code",
   "execution_count": 21,
   "metadata": {},
   "outputs": [],
   "source": [
    "\n",
    "nume_cols=['Num_ratings']\n",
    "cate1_cols=['District']\n",
    "cate2_cols=['Star','RatingScore','Pool','Parking','Restaurant']\n",
    "\n",
    "\n",
    "col_adderdropper = ColAdderDropper()\n",
    "imp_median = SimpleImputer(strategy='median') \n",
    "imp_mode = SimpleImputer(strategy='most_frequent')\n",
    "\n",
    "encoding = OneHotEncoder(handle_unknown='ignore', sparse=False)\n",
    "\n",
    "categorical_transformer = make_pipeline(imp_mode, encoding)\n",
    "\n",
    "colTransform = ColumnTransformer(transformers=[('numerical', imp_median, nume_cols),\\\n",
    "                                               ('cate2', imp_mode, cate2_cols),\n",
    "                                               ('cate1', categorical_transformer, cate1_cols)])\n",
    "\n",
    "colNormalize = StandardScaler()\n",
    "preprocess_pipeline\n",
    "\n"
   ]
  },
  {
   "cell_type": "markdown",
   "metadata": {},
   "source": [
    "## Mô hình hóa với LogisticRegression"
   ]
  },
  {
   "cell_type": "code",
   "execution_count": 22,
   "metadata": {},
   "outputs": [
    {
     "data": {
      "text/html": [
       "<style>div.sk-top-container {color: black;background-color: white;}div.sk-toggleable {background-color: white;}label.sk-toggleable__label {cursor: pointer;display: block;width: 100%;margin-bottom: 0;padding: 0.2em 0.3em;box-sizing: border-box;text-align: center;}div.sk-toggleable__content {max-height: 0;max-width: 0;overflow: hidden;text-align: left;background-color: #f0f8ff;}div.sk-toggleable__content pre {margin: 0.2em;color: black;border-radius: 0.25em;background-color: #f0f8ff;}input.sk-toggleable__control:checked~div.sk-toggleable__content {max-height: 200px;max-width: 100%;overflow: auto;}div.sk-estimator input.sk-toggleable__control:checked~label.sk-toggleable__label {background-color: #d4ebff;}div.sk-label input.sk-toggleable__control:checked~label.sk-toggleable__label {background-color: #d4ebff;}input.sk-hidden--visually {border: 0;clip: rect(1px 1px 1px 1px);clip: rect(1px, 1px, 1px, 1px);height: 1px;margin: -1px;overflow: hidden;padding: 0;position: absolute;width: 1px;}div.sk-estimator {font-family: monospace;background-color: #f0f8ff;margin: 0.25em 0.25em;border: 1px dotted black;border-radius: 0.25em;box-sizing: border-box;}div.sk-estimator:hover {background-color: #d4ebff;}div.sk-parallel-item::after {content: \"\";width: 100%;border-bottom: 1px solid gray;flex-grow: 1;}div.sk-label:hover label.sk-toggleable__label {background-color: #d4ebff;}div.sk-serial::before {content: \"\";position: absolute;border-left: 1px solid gray;box-sizing: border-box;top: 2em;bottom: 0;left: 50%;}div.sk-serial {display: flex;flex-direction: column;align-items: center;background-color: white;}div.sk-item {z-index: 1;}div.sk-parallel {display: flex;align-items: stretch;justify-content: center;background-color: white;}div.sk-parallel-item {display: flex;flex-direction: column;position: relative;background-color: white;}div.sk-parallel-item:first-child::after {align-self: flex-end;width: 50%;}div.sk-parallel-item:last-child::after {align-self: flex-start;width: 50%;}div.sk-parallel-item:only-child::after {width: 0;}div.sk-dashed-wrapped {border: 1px dashed gray;margin: 0.2em;box-sizing: border-box;padding-bottom: 0.1em;background-color: white;position: relative;}div.sk-label label {font-family: monospace;font-weight: bold;background-color: white;display: inline-block;line-height: 1.2em;}div.sk-label-container {position: relative;z-index: 2;text-align: center;}div.sk-container {display: inline-block;position: relative;}</style><div class=\"sk-top-container\"><div class=\"sk-container\"><div class=\"sk-item sk-dashed-wrapped\"><div class=\"sk-label-container\"><div class=\"sk-label sk-toggleable\"><input class=\"sk-toggleable__control sk-hidden--visually\" id=\"ef44ddaf-0374-4691-aef1-abf052bf950a\" type=\"checkbox\" ><label class=\"sk-toggleable__label\" for=\"ef44ddaf-0374-4691-aef1-abf052bf950a\">Pipeline</label><div class=\"sk-toggleable__content\"><pre>Pipeline(steps=[('coladderdropper', ColAdderDropper()),\n",
       "                ('columntransformer',\n",
       "                 ColumnTransformer(transformers=[('numerical',\n",
       "                                                  SimpleImputer(strategy='median'),\n",
       "                                                  ['Num_ratings']),\n",
       "                                                 ('cate2',\n",
       "                                                  SimpleImputer(strategy='most_frequent'),\n",
       "                                                  ['Star', 'RatingScore',\n",
       "                                                   'Pool', 'Parking',\n",
       "                                                   'Restaurant']),\n",
       "                                                 ('cate1',\n",
       "                                                  Pipeline(steps=[('simpleimputer',\n",
       "                                                                   SimpleImputer(strategy='most_frequent')),\n",
       "                                                                  ('onehotencoder',\n",
       "                                                                   OneHotEncoder(handle_unknown='ignore',\n",
       "                                                                                 sparse=False))]),\n",
       "                                                  ['District'])])),\n",
       "                ('standardscaler', StandardScaler()),\n",
       "                ('logisticregression', LogisticRegression())])</pre></div></div></div><div class=\"sk-serial\"><div class=\"sk-item\"><div class=\"sk-estimator sk-toggleable\"><input class=\"sk-toggleable__control sk-hidden--visually\" id=\"a875393d-f203-46f8-98a1-525ba0c9dc04\" type=\"checkbox\" ><label class=\"sk-toggleable__label\" for=\"a875393d-f203-46f8-98a1-525ba0c9dc04\">ColAdderDropper</label><div class=\"sk-toggleable__content\"><pre>ColAdderDropper()</pre></div></div></div><div class=\"sk-item sk-dashed-wrapped\"><div class=\"sk-label-container\"><div class=\"sk-label sk-toggleable\"><input class=\"sk-toggleable__control sk-hidden--visually\" id=\"c08e5237-5a26-45a7-994b-3d95c2800b87\" type=\"checkbox\" ><label class=\"sk-toggleable__label\" for=\"c08e5237-5a26-45a7-994b-3d95c2800b87\">columntransformer: ColumnTransformer</label><div class=\"sk-toggleable__content\"><pre>ColumnTransformer(transformers=[('numerical', SimpleImputer(strategy='median'),\n",
       "                                 ['Num_ratings']),\n",
       "                                ('cate2',\n",
       "                                 SimpleImputer(strategy='most_frequent'),\n",
       "                                 ['Star', 'RatingScore', 'Pool', 'Parking',\n",
       "                                  'Restaurant']),\n",
       "                                ('cate1',\n",
       "                                 Pipeline(steps=[('simpleimputer',\n",
       "                                                  SimpleImputer(strategy='most_frequent')),\n",
       "                                                 ('onehotencoder',\n",
       "                                                  OneHotEncoder(handle_unknown='ignore',\n",
       "                                                                sparse=False))]),\n",
       "                                 ['District'])])</pre></div></div></div><div class=\"sk-parallel\"><div class=\"sk-parallel-item\"><div class=\"sk-item\"><div class=\"sk-label-container\"><div class=\"sk-label sk-toggleable\"><input class=\"sk-toggleable__control sk-hidden--visually\" id=\"98101233-4d33-414e-8182-b87dd62ecd51\" type=\"checkbox\" ><label class=\"sk-toggleable__label\" for=\"98101233-4d33-414e-8182-b87dd62ecd51\">numerical</label><div class=\"sk-toggleable__content\"><pre>['Num_ratings']</pre></div></div></div><div class=\"sk-serial\"><div class=\"sk-item\"><div class=\"sk-estimator sk-toggleable\"><input class=\"sk-toggleable__control sk-hidden--visually\" id=\"64a0b923-d4c1-4e6d-a9c5-5695e5513886\" type=\"checkbox\" ><label class=\"sk-toggleable__label\" for=\"64a0b923-d4c1-4e6d-a9c5-5695e5513886\">SimpleImputer</label><div class=\"sk-toggleable__content\"><pre>SimpleImputer(strategy='median')</pre></div></div></div></div></div></div><div class=\"sk-parallel-item\"><div class=\"sk-item\"><div class=\"sk-label-container\"><div class=\"sk-label sk-toggleable\"><input class=\"sk-toggleable__control sk-hidden--visually\" id=\"d9efbbfc-51f8-4bee-8ab5-2c9accdc47a3\" type=\"checkbox\" ><label class=\"sk-toggleable__label\" for=\"d9efbbfc-51f8-4bee-8ab5-2c9accdc47a3\">cate2</label><div class=\"sk-toggleable__content\"><pre>['Star', 'RatingScore', 'Pool', 'Parking', 'Restaurant']</pre></div></div></div><div class=\"sk-serial\"><div class=\"sk-item\"><div class=\"sk-estimator sk-toggleable\"><input class=\"sk-toggleable__control sk-hidden--visually\" id=\"60604e33-73d5-4ae3-9f31-0510e9da0765\" type=\"checkbox\" ><label class=\"sk-toggleable__label\" for=\"60604e33-73d5-4ae3-9f31-0510e9da0765\">SimpleImputer</label><div class=\"sk-toggleable__content\"><pre>SimpleImputer(strategy='most_frequent')</pre></div></div></div></div></div></div><div class=\"sk-parallel-item\"><div class=\"sk-item\"><div class=\"sk-label-container\"><div class=\"sk-label sk-toggleable\"><input class=\"sk-toggleable__control sk-hidden--visually\" id=\"615d52f8-089f-4b94-b975-7ef9a9a0f983\" type=\"checkbox\" ><label class=\"sk-toggleable__label\" for=\"615d52f8-089f-4b94-b975-7ef9a9a0f983\">cate1</label><div class=\"sk-toggleable__content\"><pre>['District']</pre></div></div></div><div class=\"sk-serial\"><div class=\"sk-item\"><div class=\"sk-serial\"><div class=\"sk-item\"><div class=\"sk-estimator sk-toggleable\"><input class=\"sk-toggleable__control sk-hidden--visually\" id=\"11059854-40f2-4967-9ced-7282d9e8615e\" type=\"checkbox\" ><label class=\"sk-toggleable__label\" for=\"11059854-40f2-4967-9ced-7282d9e8615e\">SimpleImputer</label><div class=\"sk-toggleable__content\"><pre>SimpleImputer(strategy='most_frequent')</pre></div></div></div><div class=\"sk-item\"><div class=\"sk-estimator sk-toggleable\"><input class=\"sk-toggleable__control sk-hidden--visually\" id=\"b53c8991-bd17-4cb1-8d1f-ef35577f8d16\" type=\"checkbox\" ><label class=\"sk-toggleable__label\" for=\"b53c8991-bd17-4cb1-8d1f-ef35577f8d16\">OneHotEncoder</label><div class=\"sk-toggleable__content\"><pre>OneHotEncoder(handle_unknown='ignore', sparse=False)</pre></div></div></div></div></div></div></div></div></div></div><div class=\"sk-item\"><div class=\"sk-estimator sk-toggleable\"><input class=\"sk-toggleable__control sk-hidden--visually\" id=\"137006d3-7ed1-43ac-a6bb-7d6887c0042d\" type=\"checkbox\" ><label class=\"sk-toggleable__label\" for=\"137006d3-7ed1-43ac-a6bb-7d6887c0042d\">StandardScaler</label><div class=\"sk-toggleable__content\"><pre>StandardScaler()</pre></div></div></div><div class=\"sk-item\"><div class=\"sk-estimator sk-toggleable\"><input class=\"sk-toggleable__control sk-hidden--visually\" id=\"8634a6ec-3eea-4ee1-994b-e3e444fd98ab\" type=\"checkbox\" ><label class=\"sk-toggleable__label\" for=\"8634a6ec-3eea-4ee1-994b-e3e444fd98ab\">LogisticRegression</label><div class=\"sk-toggleable__content\"><pre>LogisticRegression()</pre></div></div></div></div></div></div></div>"
      ],
      "text/plain": [
       "Pipeline(steps=[('coladderdropper', ColAdderDropper()),\n",
       "                ('columntransformer',\n",
       "                 ColumnTransformer(transformers=[('numerical',\n",
       "                                                  SimpleImputer(strategy='median'),\n",
       "                                                  ['Num_ratings']),\n",
       "                                                 ('cate2',\n",
       "                                                  SimpleImputer(strategy='most_frequent'),\n",
       "                                                  ['Star', 'RatingScore',\n",
       "                                                   'Pool', 'Parking',\n",
       "                                                   'Restaurant']),\n",
       "                                                 ('cate1',\n",
       "                                                  Pipeline(steps=[('simpleimputer',\n",
       "                                                                   SimpleImputer(strategy='most_frequent')),\n",
       "                                                                  ('onehotencoder',\n",
       "                                                                   OneHotEncoder(handle_unknown='ignore',\n",
       "                                                                                 sparse=False))]),\n",
       "                                                  ['District'])])),\n",
       "                ('standardscaler', StandardScaler()),\n",
       "                ('logisticregression', LogisticRegression())])"
      ]
     },
     "execution_count": 22,
     "metadata": {},
     "output_type": "execute_result"
    }
   ],
   "source": [
    "log_reg_model = LogisticRegression()\n",
    "full_pipeline = make_pipeline(col_adderdropper, colTransform, colNormalize, log_reg_model)\n",
    "full_pipeline"
   ]
  },
  {
   "cell_type": "markdown",
   "metadata": {},
   "source": [
    "Kiểm tra độ chính xác của mô hình"
   ]
  },
  {
   "cell_type": "code",
   "execution_count": 23,
   "metadata": {},
   "outputs": [
    {
     "name": "stdout",
     "output_type": "stream",
     "text": [
      "0.8814102564102564 0.8481012658227848\n"
     ]
    }
   ],
   "source": [
    "full_pipeline.fit(X_train, y_train);\n",
    "train_score = full_pipeline.score(X_train, y_train)\n",
    "val_score = full_pipeline.score(X_val, y_val)\n",
    "\n",
    "print(train_score,val_score)"
   ]
  },
  {
   "cell_type": "code",
   "execution_count": 24,
   "metadata": {},
   "outputs": [
    {
     "data": {
      "text/plain": [
       "0.8367346938775511"
      ]
     },
     "execution_count": 24,
     "metadata": {},
     "output_type": "execute_result"
    }
   ],
   "source": [
    "full_pipeline.fit(X_train1, y_train1);\n",
    "full_pipeline.score(X_test, y_test)"
   ]
  },
  {
   "cell_type": "markdown",
   "metadata": {},
   "source": [
    "### Nhận xét:\n",
    "Ưu điểm: độ chính xác cao ~84%\n",
    "Nhược điểm: Dữ liệu đầu vào nhỏ"
   ]
  }
 ],
 "metadata": {
  "kernelspec": {
   "display_name": "Python 3",
   "language": "python",
   "name": "python3"
  },
  "language_info": {
   "codemirror_mode": {
    "name": "ipython",
    "version": 3
   },
   "file_extension": ".py",
   "mimetype": "text/x-python",
   "name": "python",
   "nbconvert_exporter": "python",
   "pygments_lexer": "ipython3",
   "version": "3.7.0"
  }
 },
 "nbformat": 4,
 "nbformat_minor": 4
}
